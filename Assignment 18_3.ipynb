{
 "cells": [
  {
   "cell_type": "code",
   "execution_count": 3,
   "metadata": {},
   "outputs": [
    {
     "name": "stdout",
     "output_type": "stream",
     "text": [
      "The z-value is: 0.35\n",
      "zScore for 0.35 is .1368\n",
      "My rank compared to score on the test compared to the average test taker is 63.68\n"
     ]
    }
   ],
   "source": [
    "#Course: Data Science Masters\n",
    "#Title: Assignment 18.3\n",
    "#Tool: Jupyter notebook \n",
    "#Author: Krishna A\n",
    "#Date: 25-05-2018 (DD/MM/YYYY)\n",
    "\n",
    "#Problem Statement \n",
    "#  You take the SAT and score 1100. The mean score for the SAT is 1026 and the standard\n",
    "#  deviation is 209. How well did you score on the test compared to the average test taker?\n",
    "\n",
    "iSATScore = 1100\n",
    "iMeanSATScore = 1026\n",
    "iStdDeviation = 209\n",
    "\n",
    "# Step 1: Calculate Z value = (MyScore - Mean) / std. Deviation\n",
    "iZValue = format(((iSATScore - iMeanSATScore)/iStdDeviation),'.2f')\n",
    "print(\"The z-value is:\", iZValue)\n",
    "\n",
    "## Look up the z-value in the z-table to see what percentage of test-takers scored below me.\n",
    "## The z-table shown has scores for the RIGHT of the mean. Therefore, we have to add .5 for all of the area LEFT of the mean\n",
    "\n",
    "print(\"zScore for\", iZValue, \"is .1368\")\n",
    "\n",
    "print(\"My rank compared to score on the test compared to the average test taker is\", format(((.1368 + 0.5) * 100), '.2f'))"
   ]
  },
  {
   "cell_type": "code",
   "execution_count": null,
   "metadata": {
    "collapsed": true
   },
   "outputs": [],
   "source": []
  }
 ],
 "metadata": {
  "kernelspec": {
   "display_name": "Python 3",
   "language": "python",
   "name": "python3"
  },
  "language_info": {
   "codemirror_mode": {
    "name": "ipython",
    "version": 3
   },
   "file_extension": ".py",
   "mimetype": "text/x-python",
   "name": "python",
   "nbconvert_exporter": "python",
   "pygments_lexer": "ipython3",
   "version": "3.6.3"
  }
 },
 "nbformat": 4,
 "nbformat_minor": 2
}
